{
 "cells": [
  {
   "cell_type": "markdown",
   "metadata": {},
   "source": [
    "# MICROBIOME ANALYSIS WORKSHOP\n",
    "\n",
    "This tutorial page is prepared by Bioinformatics Core Facilities IMERI FKUI for Microbiome Analysis Workshop.\n",
    "\n",
    "## Tutorial sections\n",
    "This tutorial comprises the following sections:   \n",
    " 1. [Software Installation](2_Software_Installation.ipynb)\n",
    " 2. [Pre-processing](3_Pre-processing.ipynb)\n",
    " 3. [Microbiome Classification Analysis](4_Microbiome_Classification_Analysis.ipynb)\n",
    " 4. [Statistics Analysis](5_Statistics_Analysis.ipynb) \n",
    " 5. [Enrichment Analysis](6_Enrichment_Analysis.ipynb) \n",
    "   "
   ]
  },
  {
   "cell_type": "markdown",
   "metadata": {
    "id": "bXnRjRgZw9sy"
   },
   "source": [
    "# Introduction\n",
    "In this workshop, you will learn how to analyze metagenomic data using QIIME (read as chime) 2 Amplicon Distribution. The official documentation can be found here https://amplicon-docs.qiime2.org/. The amplicon distribution of QIIME 2 includes a suite of plugins that provide broad analytic functionality that supports microbiome marker gene analysis from raw sequencing data through publication quality visualizations and statistics. There is not a single QIIME 2 workflow or command - rather it is a series of steps, and you choose which ones to apply. This tutorial is NOT the only way to analyze your data. There are a lot more plugins and functionalities will be left undiscussed in this workshop. Discover more in the documentation and consult to the QIIME 2 Forum for more specific guidance."
   ]
  },
  {
   "cell_type": "markdown",
   "metadata": {
    "id": "1u3-aTpS3Dpq"
   },
   "source": [
    "# General Workflow of Analysis\n",
    "\n",
    "<img src=\"img/general workflow.png\"/>\n",
    "\n",
    "<center> General Workflow of Microbiome Analysis </center>"
   ]
  },
  {
   "cell_type": "code",
   "execution_count": null,
   "metadata": {},
   "outputs": [],
   "source": []
  }
 ],
 "metadata": {
  "colab": {
   "provenance": []
  },
  "kernelspec": {
   "display_name": "Python 3",
   "language": "python",
   "name": "python3"
  },
  "language_info": {
   "codemirror_mode": {
    "name": "ipython",
    "version": 3
   },
   "file_extension": ".py",
   "mimetype": "text/x-python",
   "name": "python",
   "nbconvert_exporter": "python",
   "pygments_lexer": "ipython3",
   "version": "3.8.5"
  }
 },
 "nbformat": 4,
 "nbformat_minor": 4
}
