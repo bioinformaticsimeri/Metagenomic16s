{
 "cells": [
  {
   "cell_type": "markdown",
   "metadata": {
    "id": "XyFUaWa82DyF"
   },
   "source": [
    "# Software Installation\n",
    "We will use our bioinformatics server in this workshop and skip this step. However, you can install your own QIIME 2 in your computer by following the [QIIME 2 installation instructions](https://https://library.qiime2.org/quickstart/amplicon).\n",
    "\n",
    "\n"
   ]
  },
  {
   "cell_type": "markdown",
   "metadata": {
    "id": "AC7QOLFK8FtW"
   },
   "source": [
    "## Connecting to Bioinformatics Server\n",
    "Our server has QIIME 2 Amplicon Distribution 2024.10 version installed. To securely connect to the server, we will use SSH, or Secure Shell, a network protocol that provides a secure, encrypted way to access and manage remote computers over an unsecured network. We will give you a username, password, port number, and IP address to access the server.\n",
    "\n",
    "For Windows users, open Windows Power Shell. For Linux and MacOS users, open Terminal. Type the following command in Windows Power Shell/Terminal, replacing the brackets with the information you were given.\n",
    "```\n",
    "ssh -p [port number] [username]@[IP address]\n",
    "```\n",
    "Type **yes** for continuing connection. Then, you will be prompted to input the password. Type in the password confidently as it will seem like nothing happen in your screen and press Enter.\n"
   ]
  },
  {
   "cell_type": "markdown",
   "metadata": {
    "id": "AZWQZNLcAJKS"
   },
   "source": [
    "## Activating QIIME 2's Conda Environment\n",
    "The QIIME 2 Amplicon Distribution is installed within a conda environment. Right now, your Secure Shell cursor will show something like this:\n",
    "```\n",
    "(base) username@BioInfo:~$\n",
    "```\n",
    "This is the base environment. To activate QIIME 2's conda environment, type the following command.\n",
    "```\n",
    "conda activate qiime2-amplicon-2024.10\n",
    "```\n",
    "Now, your Secure Shell cursor will change into this:\n",
    "```\n",
    "(qiime2-amplicon-2024.10) username@BioInfo:~$\n",
    "```\n",
    "To see if QIIME 2 is working properly, run:\n",
    "```\n",
    "qiime info\n",
    "```"
   ]
  },
  {
   "cell_type": "markdown",
   "metadata": {
    "id": "36zvI7HS_rcx"
   },
   "source": [
    "## Navigating Through the Server Using Unix Shell Scripting\n",
    "As you may notice, we are no longer working via graphical user interface where you can interact to the computer by clicking icons. To navigate your way through Secure Shell, you will need unix shell scripting. Let's try a few things to work around Secure Shell. Try running:\n",
    "```\n",
    "pwd\n",
    "```\n",
    "What does your screen show? What does it indicate?\n",
    "\n",
    "Next, let's try to find what's inside the current directory. Run:\n",
    "```\n",
    "ls\n",
    "```\n",
    "What do you see?\n",
    "\n",
    "You can try different options of `ls`. Try `ls -l` or `ls -h` or `ls -t`. Can you see the difference?\n",
    "\n",
    "What if we want to organize things into folders? Let's try making a new folder under our name inside our working directory by typing:\n",
    "```\n",
    "mkdir <your name>\n",
    "```\n",
    "To verify it, run `ls` again.\n",
    "You will find your folder alongside so many other files and folders. You will also find a folder called 'materials'. This folder contains the data that we will use in this workshop. Let's take a look inside 'materials' folder. Run:\n",
    "```\n",
    "cd materials\n",
    "```\n",
    "You will find your cursor appends /materials at the end. You are now inside the materials folder. Type `ls` and examine what's inside.\n",
    "\n",
    "To go back to the parent directory, you can run:\n",
    "```\n",
    "cd ..\n",
    "```"
   ]
  },
  {
   "cell_type": "code",
   "execution_count": null,
   "metadata": {},
   "outputs": [],
   "source": []
  },
  {
   "cell_type": "markdown",
   "metadata": {},
   "source": [
    "Congratulations, you have sucessfully access our server. Now continue to the next section of the tutorial: [Pre-processing](3_Pre-processing.ipynb),"
   ]
  },
  {
   "cell_type": "markdown",
   "metadata": {},
   "source": [
    "or you just can back to the main tutorial page [Main Page](1_Metagenomics_Workshop_Module.ipynb)"
   ]
  },
  {
   "cell_type": "code",
   "execution_count": null,
   "metadata": {},
   "outputs": [],
   "source": []
  }
 ],
 "metadata": {
  "kernelspec": {
   "display_name": "Python 3",
   "language": "python",
   "name": "python3"
  },
  "language_info": {
   "codemirror_mode": {
    "name": "ipython",
    "version": 3
   },
   "file_extension": ".py",
   "mimetype": "text/x-python",
   "name": "python",
   "nbconvert_exporter": "python",
   "pygments_lexer": "ipython3",
   "version": "3.8.5"
  }
 },
 "nbformat": 4,
 "nbformat_minor": 4
}
