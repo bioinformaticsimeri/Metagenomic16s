{
 "cells": [
  {
   "cell_type": "markdown",
   "metadata": {},
   "source": [
    "# Enrichment Analysis"
   ]
  },
  {
   "cell_type": "markdown",
   "metadata": {},
   "source": [
    "Enrichment analysis is used to found the pathway related to microbiome abundance and its metabolite profiles. \n",
    "\"Function\" usually refers to gene families such as KEGG orthologs and Enzyme Classification numbers, but predictions can be made for any arbitrary trait. \n",
    "Similarly, predictions are typically based on 16S rRNA gene sequencing data, but other marker genes can also be used.\n",
    "We will use PICRUSt2 and visualized using ggpicrust2.\n",
    "\n",
    "PICRUSt2 (Phylogenetic Investigation of Communities by Reconstruction of Unobserved States) is a software for predicting functional abundances based only on marker gene sequences. You can follow the installation and the tutorial from [PICRUSt2 GitHub](https://github.com/picrust/picrust2/wiki/PICRUSt2-Tutorial-(v2.5.2)).\n",
    "\n",
    "The key steps of the PICRUSt2 pipeline are indicated in the below flowchart.\n",
    "\n"
   ]
  },
  {
   "cell_type": "markdown",
   "metadata": {},
   "source": [
    "<img src=\"img/picrust2.png\"/>\n",
    "\n",
    "<center> General Workflow of PICRUSt2 Pipeline </center>"
   ]
  },
  {
   "cell_type": "markdown",
   "metadata": {},
   "source": [
    "This enrichment analysis can analyzed for the statistically significant groups (Please refer to previous [statistics analysis](Statistics_Analysis.ipynb).\n",
    "You need to provide some input data:\n",
    "- metadata in tsv format\n",
    "- microbiome sequence in fasta format \n",
    "- abundance table in biom format"
   ]
  },
  {
   "cell_type": "code",
   "execution_count": null,
   "metadata": {},
   "outputs": [],
   "source": []
  },
  {
   "cell_type": "markdown",
   "metadata": {},
   "source": [
    "First, we need to convert the microbiome sequence in fasta format from 'representative-sequence.qza' file and asv-table.qza to .biom format"
   ]
  },
  {
   "cell_type": "code",
   "execution_count": null,
   "metadata": {},
   "outputs": [],
   "source": [
    "qiime tools export --input-path [path]/rep-seqs.qza  --output-path [path]/"
   ]
  },
 {
   "cell_type": "code",
   "execution_count": null,
   "metadata": {},
   "outputs": [],
   "source": [
    "qiime tools export --input-path [path]/asv-table.qza --output-path exported-feature-table/"
   ]
  }
  {
   "cell_type": "markdown",
   "metadata": {},
   "source": [
    "Then run the PICRUSt2 pipeline"
   ]
  },
  {
   "cell_type": "code",
   "execution_count": null,
   "metadata": {},
   "outputs": [],
   "source": [
    "picrust2_pipeline.py -s [path]/dna-sequences.fasta -i [path]/asv-table.biom -o [path]/picrust2_out_pipeline -p 8"
   ]
  },
  {
   "cell_type": "code",
   "execution_count": null,
   "metadata": {},
   "outputs": [],
   "source": []
  },
  {
   "cell_type": "markdown",
   "metadata": {},
   "source": [
    "From the PICRUSt2 pipeline, it will generate some data, as seen in figure below:\n",
    "<img src=\"img/picrust2_output.png\"/>\n",
    "\n",
    "<center> PICRUSt2 Output </center>"
   ]
  },
  {
   "cell_type": "code",
   "execution_count": null,
   "metadata": {},
   "outputs": [],
   "source": []
  },
  {
   "cell_type": "markdown",
   "metadata": {},
   "source": [
    "For PICRUSt2 results, we can the visualized it by using 'ggpicrust2 package' in Bioconductor. You can follow the installation instruction and tutorial from [here](https://github.com/cafferychen777/ggpicrust2).\n",
    "\n",
    "Here is the ggpicrust2 workflow:\n",
    "<img src=\"img/workflow.png\"/>\n",
    "\n",
    "<center> ggpicrust2 workflow </center>"
   ]
  },
  {
   "cell_type": "markdown",
   "metadata": {},
   "source": [
    "We can analyzed the KEGG Orthology(KO) (classification system developed by the Kyoto Encyclopedia of Genes and Genomes (KEGG) data-base) and Metacyc pathway\n",
    "\n",
    "\n",
    "The input file used for KO visualization is from 'KO_metagenome_out' directory --> 'pred_metagenome_unstrat.tsv', \n",
    "meanwhile the input file for Metacyc pathway is from 'pathways_out' directory --> 'path_abun_unstrat.tsv'\n",
    "The input file will be looked like this below figure:\n",
    "<img src=\"img/KO_abun.png\"/>\n",
    "\n",
    "<center> KO input data </center>\n",
    "\n",
    "<img src=\"img/metacyc.png\"/>\n",
    "\n",
    "<center> Metacyc input data </center>"
   ]
  },
  {
   "cell_type": "code",
   "execution_count": null,
   "metadata": {},
   "outputs": [],
   "source": [
    "library(readr)\n",
    "library(MicrobiomeStat)\n",
    "library(GGally)\n",
    "library(ggpicrust2)\n",
    "library(tibble)\n",
    "library(tidyverse)\n",
    "library(ggprism)\n",
    "library(patchwork)\n",
    "\n",
    "# Use the example data in ggpicrust2 package\n",
    "\n",
    "# Analyze the KO data\n",
    "data(ko_abundance)\n",
    "data(metadata)\n",
    "results_data_input <- ggpicrust2(data = ko_abundance,\n",
    "                                 metadata = metadata,\n",
    "                                 group = \"Environment\",\n",
    "                                 pathway = \"KO\",\n",
    "                                 daa_method = \"LinDA\",\n",
    "                                 ko_to_kegg = TRUE,\n",
    "                                 order = \"pathway_class\",\n",
    "                                 p_values_bar = TRUE,\n",
    "                                 x_lab = \"pathway_name\")\n",
    "results_data_input[[1]]$plot\n",
    "KO_results <- results_data_input[[1]]$results\n",
    "\n",
    "# Perform pathway DAA using LinDA method\n",
    "# Please change column_to_rownames() to the feature column if you are not using example dataset\n",
    "# Please change group to \"your_group_column\" if you are not using example dataset\n",
    "ko_daa_results_df <- pathway_daa(abundance = ko_abundance %>% column_to_rownames(\"#NAME\"), metadata = metadata, group = \"Environment\", daa_method = \"LinDA\")\n",
    "\n",
    "# Annotate MetaCyc pathway results without KO to KEGG conversion\n",
    "ko_daa_annotated_results_df <- pathway_annotation(pathway = \"KO\", daa_results_df = ko_daa_results_df, ko_to_kegg = FALSE)\n",
    "\n",
    "# Generate pathway heatmap\n",
    "# Please change column_to_rownames() to the feature column if you are not using example dataset\n",
    "# Please change group to \"your_group_column\" if you are not using example dataset\n",
    "ko_feature_with_p_0.05 <- ko_daa_results_df %>% filter(p_adjust < 0.05) %>% top_n(10, p_adjust)\n",
    "pathway_heatmap(abundance = ko_abundance %>% right_join(ko_feature_with_p_0.05 %>% select(all_of(c(\"feature\"))),by = c(\"#NAME\" = \"feature\")) %>% column_to_rownames(\"#NAME\"), metadata = metadata, group = \"Environment\")\n",
    "\n",
    "# Generate pathway PCA plot\n",
    "# Please change column_to_rownames() to the feature column if you are not using example dataset\n",
    "# Please change group to \"your_group_column\" if you are not using example dataset\n",
    "pathway_pca(abundance = ko_abundance %>% column_to_rownames(\"#NAME\"), metadata = metadata, group = \"Environment\")\n",
    "\n",
    "# Run pathway DAA for multiple methods\n",
    "# Please change column_to_rownames() to the feature column if you are not using example dataset\n",
    "# Please change group to \"your_group_column\" if you are not using example dataset\n",
    "methods <- c(\"ALDEx2\", \"DESeq2\", \"edgeR\")\n",
    "ko_daa_results_list <- lapply(methods, function(method) {\n",
    "  pathway_daa(abundance = ko_abundance %>% column_to_rownames(\"#NAME\"), metadata = metadata, group = \"Environment\", daa_method = method)\n",
    "})\n",
    "\n",
    "# Compare results across different methods\n",
    "ko_comparison_results <- compare_daa_results(daa_results_list = ko_daa_results_list, method_names = c(\"ALDEx2_Welch's t test\", \"ALDEx2_Wilcoxon rank test\", \"DESeq2\", \"edgeR\"))\n",
    "\n",
    "\n",
    "#############################################################################\n",
    "\n",
    "# Analyze the EC or MetaCyc pathway\n",
    "data(metacyc_abundance)\n",
    "results_file_input <- ggpicrust2(data = metacyc_abundance,\n",
    "                                 metadata = metadata,\n",
    "                                 group = \"Environment\",\n",
    "                                 pathway = \"MetaCyc\",\n",
    "                                 daa_method = \"LinDA\",\n",
    "                                 ko_to_kegg = FALSE,\n",
    "                                 order = \"group\",\n",
    "                                 p_values_bar = TRUE,\n",
    "                                 x_lab = \"description\")\n",
    "results_file_input[[1]]$plot\n",
    "metacyc_results <- results_file_input[[1]]$results\n",
    "\n",
    "\n",
    "# Perform pathway DAA using LinDA method\n",
    "# Please change column_to_rownames() to the feature column if you are not using example dataset\n",
    "# Please change group to \"your_group_column\" if you are not using example dataset\n",
    "metacyc_daa_results_df <- pathway_daa(abundance = metacyc_abundance %>% column_to_rownames(\"pathway\"), metadata = metadata, group = \"Environment\", daa_method = \"LinDA\")\n",
    "\n",
    "# Annotate MetaCyc pathway results without KO to KEGG conversion\n",
    "metacyc_daa_annotated_results_df <- pathway_annotation(pathway = \"MetaCyc\", daa_results_df = metacyc_daa_results_df, ko_to_kegg = FALSE)\n",
    "\n",
    "# Generate pathway heatmap\n",
    "# Please change column_to_rownames() to the feature column if you are not using example dataset\n",
    "# Please change group to \"your_group_column\" if you are not using example dataset\n",
    "metacyc_feature_with_p_0.05 <- metacyc_daa_results_df %>% filter(p_adjust < 0.05) %>% top_n(10, p_adjust)\n",
    "pathway_heatmap(abundance = metacyc_abundance %>% right_join(metacyc_feature_with_p_0.05 %>% select(all_of(c(\"feature\"))),by = c(\"pathway\" = \"feature\")) %>% column_to_rownames(\"pathway\"), metadata = metadata, group = \"Environment\")\n",
    "\n",
    "# Generate pathway PCA plot\n",
    "# Please change column_to_rownames() to the feature column if you are not using example dataset\n",
    "# Please change group to \"your_group_column\" if you are not using example dataset\n",
    "pathway_pca(abundance = metacyc_abundance %>% column_to_rownames(\"pathway\"), metadata = metadata, group = \"Environment\")\n",
    "\n",
    "# Run pathway DAA for multiple methods\n",
    "# Please change column_to_rownames() to the feature column if you are not using example dataset\n",
    "# Please change group to \"your_group_column\" if you are not using example dataset\n",
    "methods <- c(\"ALDEx2\", \"DESeq2\", \"edgeR\")\n",
    "metacyc_daa_results_list <- lapply(methods, function(method) {\n",
    "  pathway_daa(abundance = metacyc_abundance %>% column_to_rownames(\"pathway\"), metadata = metadata, group = \"Environment\", daa_method = method)\n",
    "})\n",
    "\n",
    "# Compare results across different methods\n",
    "metacyc_comparison_results <- compare_daa_results(daa_results_list = metacyc_daa_results_list, method_names = c(\"ALDEx2_Welch's t test\", \"ALDEx2_Wilcoxon rank test\", \"DESeq2\", \"edgeR\"))\n"
   ]
  },
  {
   "cell_type": "markdown",
   "metadata": {},
   "source": [
    "The plots generated from above analysis are seen in below figure:"
   ]
  },
  {
   "cell_type": "markdown",
   "metadata": {},
   "source": [
    "<img src=\"img/KO_results.png\"/>\n",
    "\n",
    "<center> KO results plot </center>\n",
    "\n",
    "<img src=\"img/metacyc_results.png\"/>\n",
    "\n",
    "<center> Metacyc results plot </center>"
   ]
  },
  {
   "cell_type": "code",
   "execution_count": null,
   "metadata": {},
   "outputs": [],
   "source": []
  },
  {
   "cell_type": "markdown",
   "metadata": {},
   "source": [
    "Congratulation!! You've pass all the workshop!!\n",
    "Thank you for joining our workshop. See you next event!!\n",
    "\n",
    "Kind regards,\n",
    "Bioinformatics Core Facilities - IMERI FKUI\n",
    "------------------"
   ]
  }
 ],
 "metadata": {
  "kernelspec": {
   "display_name": "Python 3",
   "language": "python",
   "name": "python3"
  },
  "language_info": {
   "codemirror_mode": {
    "name": "ipython",
    "version": 3
   },
   "file_extension": ".py",
   "mimetype": "text/x-python",
   "name": "python",
   "nbconvert_exporter": "python",
   "pygments_lexer": "ipython3",
   "version": "3.8.5"
  }
 },
 "nbformat": 4,
 "nbformat_minor": 4
}
