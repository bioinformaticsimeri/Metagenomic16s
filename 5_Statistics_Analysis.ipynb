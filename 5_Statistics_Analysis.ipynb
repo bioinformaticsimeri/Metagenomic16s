{
 "cells": [
  {
   "cell_type": "markdown",
   "metadata": {},
   "source": [
    "# Statistics / Plotting Analysis\n",
    "Alongside the microbiome classification, we also could have the statistics analysis by using the `Feature Table` data generated from denoising step. The statistics analysis included:\n",
    "- Rarefaction depth\n",
    "    - Alpha Rarefaction\n",
    "    - Beta Rarefaction\n",
    "- Diversity metrics\n",
    "    - Core Diversity Metrics\n",
    "    - Alpha Diversity\n",
    "    - Beta Diversity\n"
   ]
  },
  {
   "cell_type": "markdown",
   "metadata": {
    "id": "LN2FEYeFWWVw"
   },
   "source": [
    "## Rarefaction Depth\n",
    "As we begin performing more analyses of the samples in our feature table, an important parameter that needs to be define is the even sampling (i.e. rarefaction) depth that diversity metrics need to be computed at. Because most diversity metrics are sensitive to different sampling depths across different samples, it is common to randomly subsample the counts from each sample to a specific value. However, choosing this value is tricky. We recommend making your choice by reviewing the information presented in the feature table summary file. Choose a value that is as high as possible (so you retain more sequences per sample) while excluding as few samples as possible.\n",
    "\n",
    "Refer back to `asv-table.qzv` to choose an even sampling depth.\n"
   ]
  },
  {
   "cell_type": "markdown",
   "metadata": {
    "id": "iAh3tpAXWNQQ"
   },
   "source": [
    "### Alpha Rarefaction\n",
    "After choosing an even sampling depth, it’s also helpful to see if your diversity metrics appear to have stabilizes at that depth of coverage. You can do this for alpha diversity using an alpha rarefaction plot."
   ]
  },
  {
   "cell_type": "code",
   "execution_count": null,
   "metadata": {
    "id": "3CvSutEiuS7i"
   },
   "outputs": [],
   "source": [
    "qiime diversity alpha-rarefaction \\\n",
    "  --i-table asv-table.qza \\\n",
    "  --p-metrics shannon \\\n",
    "  --m-metadata-file sample-metadata.tsv \\\n",
    "  --p-max-depth 10000 \\\n",
    "  --o-visualization shannon-rarefaction-plot.qzv"
   ]
  },
  {
   "cell_type": "markdown",
   "metadata": {
    "id": "kdBoLXL9WRXg"
   },
   "source": [
    "### Beta Rarefaction\n",
    "Similarly, you can evaluate whether your beta diversity metrics appear stable at the depth you have selected."
   ]
  },
  {
   "cell_type": "code",
   "execution_count": null,
   "metadata": {
    "id": "Wr3_eRCjYhhq"
   },
   "outputs": [],
   "source": [
    "qiime diversity beta-rarefaction \\\n",
    "  --i-table asv-table.qza \\\n",
    "  --p-metric braycurtis \\\n",
    "  --p-clustering-method nj \\\n",
    "  --p-sampling-depth 10000 \\\n",
    "  --m-metadata-file sample-metadata.tsv \\\n",
    "  --o-visualization braycurtis-rarefaction-plot.qzv"
   ]
  },
  {
   "cell_type": "code",
   "execution_count": null,
   "metadata": {},
   "outputs": [],
   "source": []
  },
  {
   "cell_type": "markdown",
   "metadata": {
    "id": "EBoJj6UqXFP3"
   },
   "source": [
    "## Computing Diversity Metrics\n",
    "The next step that we’ll work through is computing a series of common diversity metrics on our feature table. We’ll do this using the `q2-diversity` plugin’s `core-metrics-phylogenetic` action. This action is another QIIME 2 pipeline, this time combining over ten different actions into a single action."
   ]
  },
  {
   "cell_type": "markdown",
   "metadata": {
    "id": "7sy8TLUXb67C"
   },
   "source": [
    "### Core Diversity Metrics\n",
    "`core-metrics-phylogenetic` requires a feature table, rooted phylogenetic tree, and sample metadata as input. It additionally requires that you provide the sampling depth that this analysis will be performed at that we discussed before. In the interest of retaining as many of the samples as possible, we’ll set our sampling depth to 10,000 for this analysis."
   ]
  },
  {
   "cell_type": "code",
   "execution_count": null,
   "metadata": {
    "id": "ur9aOhu1cK5A"
   },
   "outputs": [],
   "source": [
    "qiime diversity core-metrics-phylogenetic \\\n",
    "  --i-phylogeny rooted_tree.qza \\\n",
    "  --i-table asv-table.qza \\\n",
    "  --p-sampling-depth 10000 \\\n",
    "  --m-metadata-file sample-metadata.tsv \\\n",
    "  --output-dir diversity-metrics-phylogenetic"
   ]
  },
  {
   "cell_type": "markdown",
   "metadata": {
    "id": "BeeV9L0R06HA"
   },
   "source": [
    "Check the output directory `diversity-metrics-phylogenetic` to see all the results.\n",
    "\n",
    "*   diversity-metrics-phylogenetic/rarefied_table.qza\n",
    "*   diversity-metrics-phylogenetic/faith_pd_vector.qza\n",
    "*   diversity-metrics-phylogenetic/observed_features_vector.qza\n",
    "*   diversity-metrics-phylogenetic/shannon_vector.qza\n",
    "*   diversity-metrics-phylogenetic/evenness_vector.qza\n",
    "*   diversity-metrics-phylogenetic/unweighted_unifrac_distance_matrix.qza\n",
    "*   diversity-metrics-phylogenetic/weighted_unifrac_distance_matrix.qza\n",
    "*   diversity-metrics-phylogenetic/jaccard_distance_matrix.qza\n",
    "*   diversity-metrics-phylogenetic/bray_curtis_distance_matrix.qza\n",
    "*   diversity-metrics-phylogenetic/unweighted_unifrac_pcoa_results.qza\n",
    "*   diversity-metrics-phylogenetic/weighted_unifrac_pcoa_results.qza\n",
    "*   diversity-metrics-phylogenetic/jaccard_pcoa_results.qza\n",
    "*   diversity-metrics-phylogenetic/bray_curtis_pcoa_results.qza\n",
    "*   diversity-metrics-phylogenetic/unweighted_unifrac_emperor.qzv\n",
    "*   diversity-metrics-phylogenetic/weighted_unifrac_emperor.qzv\n",
    "*   diversity-metrics-phylogenetic/jaccard_emperor.qzv\n",
    "*   diversity-metrics-phylogenetic/bray_curtis_emperor.qzv\n",
    "\n",
    "As you can see, we get so many different results from this pipeline, including the rarefied_rable, alpha diversity metrics (Faith's PD, observed features, Shannon, evenness), and beta diversity metrics (Jaccard, Bray Curtis, unweighted unifrac, weighted unifrac). There are actually many other diversity metrics that we can apply. For further reading, you can visit this forum, https://forum.qiime2.org/t/alpha-and-beta-diversity-explanations-and-commands/2282."
   ]
  },
  {
   "cell_type": "markdown",
   "metadata": {
    "id": "kQmSWAUdbjWd"
   },
   "source": [
    "### Alpha Diversity Significance\n",
    "Next, we’ll look for general patterns, by comparing different categorical groupings of samples to see if there is some relationship to richness and/or evenness.\n",
    "\n",
    "To start with, we’ll examine ‘observed features’:"
   ]
  },
  {
   "cell_type": "code",
   "execution_count": null,
   "metadata": {
    "id": "gZi6loJ6itkC"
   },
   "outputs": [],
   "source": [
    "qiime diversity alpha-group-significance \\\n",
    "  --i-alpha-diversity diversity-metrics-phylogenetic/observed_features_vector.qza \\\n",
    "  --m-metadata-file sample-metadata.tsv \\\n",
    "  --o-visualization diversity-metrics-phlogenetic/alpha-group-sig-obs-feats.qzv"
   ]
  },
  {
   "cell_type": "markdown",
   "metadata": {
    "id": "erKswmMEXJ13"
   },
   "source": [
    "### Beta Diversity Significance\n",
    "Similar to alpha diversity, there are a few more beta diversity metrics that we can apply. Run `qiime diversity beta --help` or `qiime diversity beta-phylogenetic --help` to see the other metrics. Run this command if you need another non-phylogenetic beta diversity metrics:"
   ]
  },
  {
   "cell_type": "code",
   "execution_count": null,
   "metadata": {
    "id": "nbUVAVFIhrFF"
   },
   "outputs": [],
   "source": [
    "qiime diversity beta-group-significance \\\n",
    "--i-distance-matrix diversity-metrics-results/bray_curtis_distance_matrix.qza \\\n",
    "--m-metadata-file sample-metadata.tsv \\\n",
    "--m-metadata-column group \\\n",
    "--o-visualization diversity-metrics-results/bray-curtis-group-significance.qzv"
   ]
  },
  {
   "cell_type": "markdown",
   "metadata": {},
   "source": [
    "Congratulations, you have sucessfully analyze the statistics. Now continue to the next section of the tutorial: [Enrichment Analysis](6_Enrichment_Analysis.ipynb),"
   ]
  },
  {
   "cell_type": "markdown",
   "metadata": {},
   "source": [
    "or you just can back to the main tutorial page [Main Page](1_Metagenomics_Workshop_Module.ipynb)"
   ]
  },
  {
   "cell_type": "code",
   "execution_count": null,
   "metadata": {},
   "outputs": [],
   "source": []
  }
 ],
 "metadata": {
  "kernelspec": {
   "display_name": "Python 3",
   "language": "python",
   "name": "python3"
  },
  "language_info": {
   "codemirror_mode": {
    "name": "ipython",
    "version": 3
   },
   "file_extension": ".py",
   "mimetype": "text/x-python",
   "name": "python",
   "nbconvert_exporter": "python",
   "pygments_lexer": "ipython3",
   "version": "3.8.5"
  }
 },
 "nbformat": 4,
 "nbformat_minor": 4
}
