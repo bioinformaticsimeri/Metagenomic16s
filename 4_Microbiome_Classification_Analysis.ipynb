{
 "cells": [
  {
   "cell_type": "markdown",
   "metadata": {},
   "source": [
    "# Microbiome Classification Analysis\n",
    "After we are done with the pre-processing, we then continue the microbiome classification analysis by using the `Representative Sequences` generated from denoising step. From this analysis, we will get the 'Taxonomic Classification' and 'Phylogenetic Tree'"
   ]
  },
  {
   "cell_type": "markdown",
   "metadata": {
    "id": "a6n0d7DOUfx-"
   },
   "source": [
    "## Taxonomic Classification\n",
    "Before we complete our upstream analysis steps, we’ll generate taxonomic annotations for our sequences using the feature-classifier plugin to identify amplicon sequence variants (ASVs) or operational taxonomic units (OTUs). A pre-trained classifier is provided in materials folder under the name `classifier-V34.qza` which was trained on SILVA database using QIIME 2 version 2024.10 specifically. If you use another version of QIIME 2 or want to try another database, you can train a new classifier yourself or find the classifier shared by other users in QIIME 2 forum."
   ]
  },
  {
   "cell_type": "code",
   "execution_count": null,
   "metadata": {
    "id": "ZtLVpWY-sJHs"
   },
   "outputs": [],
   "source": [
    "qiime feature-classifier classify-sklearn \\\n",
    "  --i-classifier ../classifier-V34.qza \\\n",
    "  --i-reads rep-seqs.qza \\\n",
    "  --o-classification silva-taxonomy.qza"
   ]
  },
  {
   "cell_type": "markdown",
   "metadata": {
    "id": "Of-6IRTZsYKO"
   },
   "source": [
    "We can visualize the taxonomic classification by utilizing `qiime taxa barplot` command. See the interactive barplots in [QIIME 2 View](https://view.qiime2.org)."
   ]
  },
  {
   "cell_type": "code",
   "execution_count": null,
   "metadata": {
    "id": "DasAXENBsXi4"
   },
   "outputs": [],
   "source": [
    "qiime taxa barplot \\\n",
    "  --i-table table.qza \\\n",
    "  --i-taxonomy silva-taxonomy.qza \\\n",
    "  --m-metadata-file sample-metadata.tsv \\\n",
    "  --o-visualization silva-taxa-bar-plots.qzv"
   ]
  {
   "cell_type": "code",
   "execution_count": null,
   "metadata": {
    "id": "DasAXENBsXi4"
   },
   "outputs": [],
   "source": [
    "qiime metadata tabulate \\\n",
    "  --m-input-file silva-taxonomy.qza \\\n",
    "  --o-visualization silva-taxonomy.qzv"
  ]
  },
  {
   "cell_type": "markdown",
   "metadata": {
    "id": "Hpz4pZ6JXBxO"
   },
   "source": [
    "## Building Phylogenetic Tree\n",
    "QIIME 2 allows you to generate phylogenetic trees de novo with a few different underlying tools. We’ll build a phylogenetic tree from our ASVs using the q2-phylogeny plugin’s align_to_tree_mafft_fasttree action. This action is a pipeline in QIIME 2, which means that it strings together multiple simpler operations that are often performed together to reduce the number of steps that users have to take. Pipelines are used in the same way as other actions."
   ]
  },
  {
   "cell_type": "code",
   "execution_count": null,
   "metadata": {
    "id": "wk1aAeiYSpwo"
   },
   "outputs": [],
   "source": [
    "qiime phylogeny align-to-tree-mafft-fasttree \\\n",
    "  --i-sequences rep-seqs.qza \\\n",
    "  --o-alignment aligned-rep-seqs.qza \\\n",
    "  --o-masked-alignment masked-aligned-rep-seqs.qza \\\n",
    "  --o-tree unrooted-tree.qza \\\n",
    "  --o-rooted-tree rooted-tree.qza\n",
    "\n",
    "qiime empress community-plot \\\n",
    "  --i-tree rooted-tree.qza \\\n",
    "  --i-feature-table asv-table.qza \\\n",
    "  --m-sample-metadata-file sample-metadata.tsv \\\n",
    "  --m-feature-metadata-file silva-taxonomy.qza \\\n",
    "  --o-visualization tree-visualization.qzv"
   ]
  },
  {
   "cell_type": "markdown",
   "metadata": {
    "id": "yjtj561CTRj0"
   },
   "source": [
    "QIIME Empress helps us explore the hierarchical and evolutionary relationships between features in a dataset. Upload `tree-visualization.qzv` to [QIIME 2 View](https://view.qiime2.org/) to generate a visualization."
   ]
  },
  {
   "cell_type": "markdown",
   "metadata": {},
   "source": [
    "## Taxonomy Visualization"
   ]
  },
  {
   "cell_type": "markdown",
   "metadata": {},
   "source": [
    "We can visualize the abundance taxonomy by using Krona.\n",
    "You can install the Krona package under QIIME2 environment [q2-krona](https://github.com/kaanb93/q2-krona/). Run this command to get krona visualization.\n"
   ]
  },
  {
   "cell_type": "code",
   "execution_count": null,
   "metadata": {},
   "outputs": [],
   "source": [
    "qiime krona collapse-and-plot \\\n",
    "  --i-table asv-table.qza \\\n",
    "  --i-taxonomy silva-taxonomy.qza \\\n",
    "  --o-krona-plot krona.qzv"
   ]
  },
  {
   "cell_type": "code",
   "execution_count": null,
   "metadata": {},
   "outputs": [],
   "source": []
  },
  {
   "cell_type": "markdown",
   "metadata": {},
   "source": [
    "Congratulations, you have sucessfully analyze the microbiome abundance. Now continue to the next section of the tutorial: [Statistics Analysis](5_Statistics_Analysis.ipynb),"
   ]
  },
  {
   "cell_type": "markdown",
   "metadata": {},
   "source": [
    "or you just can back to the main tutorial page [Main Page](1_Metagenomics_Workshop_Module.ipynb)"
   ]
  },
  {
   "cell_type": "code",
   "execution_count": null,
   "metadata": {},
   "outputs": [],
   "source": []
  }
 ],
 "metadata": {
  "kernelspec": {
   "display_name": "Python 3",
   "language": "python",
   "name": "python3"
  },
  "language_info": {
   "codemirror_mode": {
    "name": "ipython",
    "version": 3
   },
   "file_extension": ".py",
   "mimetype": "text/x-python",
   "name": "python",
   "nbconvert_exporter": "python",
   "pygments_lexer": "ipython3",
   "version": "3.8.5"
  }
 },
 "nbformat": 4,
 "nbformat_minor": 4
}
